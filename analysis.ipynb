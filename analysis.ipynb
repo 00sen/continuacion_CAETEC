{
 "cells": [
  {
   "cell_type": "markdown",
   "id": "1b8d7ac4",
   "metadata": {},
   "source": [
    "# Análisis comparativo y extendido del modelo YOLOv5 (2024)"
   ]
  },
  {
   "cell_type": "markdown",
   "id": "9e17ade8",
   "metadata": {},
   "source": [
    "## José Pablo Martínez A01275676\n",
    "## Luis Arturo Rendón A01703572"
   ]
  },
  {
   "cell_type": "code",
   "execution_count": null,
   "id": "3bcf8ada",
   "metadata": {
    "vscode": {
     "languageId": "plaintext"
    }
   },
   "outputs": [],
   "source": [
    "# Imports\n",
    "import pandas as pd\n",
    "import numpy as np\n",
    "from io import StringIO\n",
    "import os\n",
    "from ace_tools import display_dataframe_to_user"
   ]
  },
  {
   "cell_type": "code",
   "execution_count": null,
   "id": "1be9cc24",
   "metadata": {
    "vscode": {
     "languageId": "plaintext"
    }
   },
   "outputs": [],
   "source": [
    "PRED_PATH = \"analysis/RESULTADO_CSV.csv\" \n",
    "GROUND_TRUGH   = \"analysis/ground_truth.csv\" "
   ]
  },
  {
   "cell_type": "code",
   "execution_count": null,
   "id": "b109275f",
   "metadata": {
    "vscode": {
     "languageId": "plaintext"
    }
   },
   "outputs": [],
   "source": [
    "def parse_beds_str(beds_str: str) -> set[int]:\n",
    "    \"\"\"\n",
    "    Convierte \"0,1\" -> {0,1}, \"\" -> set()\n",
    "    \"\"\"\n",
    "    if pd.isna(beds_str) or str(beds_str).strip() == \"\":\n",
    "        return set()\n",
    "    return set(int(x) for x in str(beds_str).split(\",\") if x.strip().isdigit())"
   ]
  },
  {
   "cell_type": "code",
   "execution_count": null,
   "id": "505bda6a",
   "metadata": {
    "vscode": {
     "languageId": "plaintext"
    }
   },
   "outputs": [],
   "source": [
    "df_pred = pd.read_csv(PRED_PATH)          # columnas: filename, n_cows, beds\n",
    "df_gt   = pd.read_csv(GT_PATH)            # columnas: filename, n_cows, beds\n",
    "\n",
    "# Renombramos para evitar colisiones\n",
    "df_gt = df_gt.rename(columns={\"n_cows\": \"true_n_cows\", \"beds\": \"true_beds\"})\n",
    "\n",
    "# Merge\n",
    "df = pd.merge(df_gt, df_pred, on=\"filename\", how=\"inner\", validate=\"one_to_one\")"
   ]
  },
  {
   "cell_type": "code",
   "execution_count": null,
   "id": "17638011",
   "metadata": {
    "vscode": {
     "languageId": "plaintext"
    }
   },
   "outputs": [],
   "source": [
    "err_counts = []\n",
    "correct_count_flags = []\n",
    "correct_beds_flags = []\n",
    "\n",
    "for idx, row in df.iterrows():\n",
    "    # Conteo\n",
    "    true_nc = int(row[\"true_n_cows\"])\n",
    "    pred_nc = int(row[\"n_cows\"])\n",
    "    err_counts.append(abs(pred_nc - true_nc))\n",
    "    correct_count_flags.append(int(pred_nc == true_nc))\n",
    "\n",
    "    # Camas\n",
    "    true_beds = parse_beds_str(row[\"true_beds\"])\n",
    "    pred_beds = parse_beds_str(row[\"beds\"])\n",
    "    correct_beds_flags.append(int(pred_beds == true_beds))\n",
    "\n",
    "# Añadimos columnas\n",
    "df[\"err_count\"] = err_counts\n",
    "df[\"correct_count\"] = correct_count_flags\n",
    "df[\"correct_beds\"] = correct_beds_flags"
   ]
  },
  {
   "cell_type": "code",
   "execution_count": null,
   "id": "b3cf0bfc",
   "metadata": {
    "vscode": {
     "languageId": "plaintext"
    }
   },
   "outputs": [],
   "source": [
    "N = len(df)\n",
    "mae_count       = np.mean(err_counts)\n",
    "accuracy_count  = np.mean(correct_count_flags) * 100\n",
    "accuracy_beds   = np.mean(correct_beds_flags)  * 100\n",
    "\n",
    "summary_dict = {\n",
    "    \"N imágenes\"                  : N,\n",
    "    \"MAE conteo vacas\"            : round(mae_count, 3),\n",
    "    \"Exactitud conteo (%)\"        : round(accuracy_count, 2),\n",
    "    \"Exactitud camas (%)\"         : round(accuracy_beds, 2),\n",
    "}"
   ]
  },
  {
   "cell_type": "code",
   "execution_count": null,
   "id": "3af570fa",
   "metadata": {
    "vscode": {
     "languageId": "plaintext"
    }
   },
   "outputs": [],
   "source": [
    "print(\"=== RESUMEN GLOBAL ===\")\n",
    "for k, v in summary_dict.items():\n",
    "    print(f\"{k:<25}: {v}\")\n",
    "\n",
    "# Mostrar detalle en tabla interactiva\n",
    "display_dataframe_to_user(\"Comparación predicciones vs ground‑truth\", df)"
   ]
  }
 ],
 "metadata": {
  "language_info": {
   "name": "python"
  }
 },
 "nbformat": 4,
 "nbformat_minor": 5
}
